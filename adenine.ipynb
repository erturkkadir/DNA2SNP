{
  "nbformat": 4,
  "nbformat_minor": 0,
  "metadata": {
    "colab": {
      "private_outputs": true,
      "provenance": [],
      "authorship_tag": "ABX9TyPrMHW1ZZNeYLkjTli/uWZb",
      "include_colab_link": true
    },
    "kernelspec": {
      "name": "python3",
      "display_name": "Python 3"
    },
    "language_info": {
      "name": "python"
    }
  },
  "cells": [
    {
      "cell_type": "markdown",
      "metadata": {
        "id": "view-in-github",
        "colab_type": "text"
      },
      "source": [
        "<a href=\"https://colab.research.google.com/github/erturkkadir/DNA2SNP/blob/main/adenine.ipynb\" target=\"_parent\"><img src=\"https://colab.research.google.com/assets/colab-badge.svg\" alt=\"Open In Colab\"/></a>"
      ]
    },
    {
      "cell_type": "code",
      "execution_count": null,
      "metadata": {
        "id": "NiEs0uNYlYDg"
      },
      "outputs": [],
      "source": [
        "! pip install  pubchempy\n"
      ]
    },
    {
      "cell_type": "code",
      "source": [
        "import pubchempy as pcp\n",
        "from pprint import pprint\n",
        "asp = pcp.get_compounds('Adenine', 'name', record_type='3d')\n",
        "pprint(vars(asp[0]))\n",
        "pprint(asp[0].atoms)"
      ],
      "metadata": {
        "id": "aAIoL4x4mB67"
      },
      "execution_count": null,
      "outputs": []
    }
  ]
}