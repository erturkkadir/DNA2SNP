{
  "nbformat": 4,
  "nbformat_minor": 0,
  "metadata": {
    "colab": {
      "private_outputs": true,
      "provenance": [],
      "authorship_tag": "ABX9TyNfSGBz6gIYeyxNV/OPebaG",
      "include_colab_link": true
    },
    "kernelspec": {
      "name": "python3",
      "display_name": "Python 3"
    },
    "language_info": {
      "name": "python"
    }
  },
  "cells": [
    {
      "cell_type": "markdown",
      "metadata": {
        "id": "view-in-github",
        "colab_type": "text"
      },
      "source": [
        "<a href=\"https://colab.research.google.com/github/erturkkadir/DNA2SNP/blob/main/dna_molecules.ipynb\" target=\"_parent\"><img src=\"https://colab.research.google.com/assets/colab-badge.svg\" alt=\"Open In Colab\"/></a>"
      ]
    },
    {
      "cell_type": "code",
      "execution_count": null,
      "metadata": {
        "id": "NiEs0uNYlYDg"
      },
      "outputs": [],
      "source": [
        "! pip install  pubchempy\n",
        "! pip install mol2chemfigPy3\n",
        "\n",
        "# Discord : https://discord.com/channels/581738731934056449/1050546902137049159 @uwezi"
      ]
    },
    {
      "cell_type": "code",
      "source": [
        "class adenine_1(Scene):\n",
        "    def construct(self):\n",
        "        cmd = mol2chemfig('190', inline=True, aromatic=False, show_carbon=True, show_methyl=True)\n",
        "        chem = Tex(cmd, tex_template=myChemTemplate).set_stroke(width=3)\n",
        "        self.play(Write(chem))\n",
        "        self.wait()\n",
        "\n",
        "\n",
        "class thymine_1(Scene):\n",
        "    def construct(self):\n",
        "        cmd = mol2chemfig('1135', inline=True, aromatic=False, show_carbon=True, show_methyl=True)\n",
        "        chem = Tex(cmd, tex_template=myChemTemplate).set_stroke(width=3)\n",
        "        self.play(Write(chem))\n",
        "        self.wait()\n",
        "\n",
        "\n",
        "class guanine_1(Scene):\n",
        "    def construct(self):\n",
        "        cmd = mol2chemfig('135398634', inline=True, aromatic=False, show_carbon=True, show_methyl=True)\n",
        "        chem = Tex(cmd, tex_template=myChemTemplate).set_stroke(width=3)\n",
        "        self.play(Write(chem))\n",
        "        self.wait()\n",
        "\n",
        "\n",
        "class cytosine_1(Scene):\n",
        "    def construct(self):\n",
        "        cmd = mol2chemfig('597', inline=True, aromatic=False, show_carbon=True, show_methyl=True)\n",
        "        chem = Tex(cmd, tex_template=myChemTemplate).set_stroke(width=3)\n",
        "        self.play(Write(chem))\n",
        "        self.wait()"
      ],
      "metadata": {
        "id": "Pc0JgGTMoQi2"
      },
      "execution_count": null,
      "outputs": []
    },
    {
      "cell_type": "code",
      "source": [],
      "metadata": {
        "id": "aAIoL4x4mB67"
      },
      "execution_count": null,
      "outputs": []
    }
  ]
}